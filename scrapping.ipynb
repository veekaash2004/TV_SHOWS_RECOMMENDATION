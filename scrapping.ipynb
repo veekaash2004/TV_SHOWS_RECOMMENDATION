{
 "cells": [
  {
   "cell_type": "code",
   "execution_count": 8,
   "metadata": {},
   "outputs": [],
   "source": [
    "from bs4 import BeautifulSoup\n",
    "import requests\n",
    "import pandas as pd\n",
    "import re\n",
    "import csv\n",
    "import os\n",
    "import spacy\n",
    "\n",
    "datas = []\n"
   ]
  },
  {
   "cell_type": "code",
   "execution_count": 9,
   "metadata": {},
   "outputs": [
    {
     "name": "stdout",
     "output_type": "stream",
     "text": [
      "501\n",
      "Failed to retrieve TV show data for page 501. Status code: 400\n"
     ]
    }
   ],
   "source": [
    "import requests\n",
    "\n",
    "api_key = 'd7ccf52b1d89825d0a4eea78f785a707'\n",
    "base_url = 'https://api.themoviedb.org/3'\n",
    "image_base_url = 'https://image.tmdb.org/t/p/w500'\n",
    "\n",
    "endpoint = '/tv/popular'\n",
    "\n",
    "params = {\n",
    "    'api_key': api_key,\n",
    "    'language': 'en-US',\n",
    "}\n",
    "genre_endpoint = '/genre/tv/list'\n",
    "genre_params = {\n",
    "    'api_key': api_key,\n",
    "    'language': 'en-US',\n",
    "}\n",
    "\n",
    "genre_response = requests.get(base_url + genre_endpoint, params=genre_params)\n",
    "\n",
    "if genre_response.status_code == 200:\n",
    "    nlp = spacy.load('en_core_web_sm')\n",
    "    genre_data = genre_response.json()\n",
    "    genre_mapping = {genre['id']: genre['name'] for genre in genre_data['genres']}\n",
    "    for page in range(501,502):\n",
    "        print(page)\n",
    "        params['page'] = page\n",
    "        response = requests.get(base_url + endpoint, params=params)\n",
    "        if response.status_code == 200:\n",
    "            \n",
    "            data = response.json()\n",
    "            for tv_show in data['results']:\n",
    "                if tv_show['poster_path'] is None:\n",
    "                    tv_show['poster_path'] = '/7dFZJ2ZJJdcmkp05B9NWlqTJ5tq.jpg'\n",
    "                details = {\n",
    "                    'name': tv_show['name'],\n",
    "                    'overview': tv_show['overview'],\n",
    "                    'id': tv_show['id'],\n",
    "                    'poster_path': image_base_url + tv_show['poster_path'],\n",
    "                    'rating':tv_show['vote_average'],\n",
    "                    'vote_count':tv_show['vote_count']\n",
    "                }\n",
    "                tv_id = tv_show['id']\n",
    "                details_endpoint = f'/tv/{tv_id}'\n",
    "                details_response = requests.get(base_url + details_endpoint, params=params)\n",
    "                if details_response.status_code == 200:\n",
    "                    # Parse the JSON response for TV show details\n",
    "                    tv_details = details_response.json()\n",
    "                    \n",
    "                    # Extract additional details\n",
    "                    details['adult'] = tv_details['adult'] \n",
    "                    details['director'] = [crew['name'] for crew in tv_details.get('credits', {}).get('crew', []) if crew['job'] == 'Director']\n",
    "                    details['producer'] = [crew['name'] for crew in tv_details.get('credits', {}).get('crew', []) if crew['job'] == 'Producer']\n",
    "                    details['creator'] = [creator['name'] for creator in tv_details.get('created_by', [])]\n",
    "                    details['actors'] = [cast['name'] for cast in tv_details.get('credits', {}).get('cast', [])][:5]  # Limit to top 5 actors\n",
    "                    details['year_released'] = tv_details.get('first_air_date', '').split('-')[0]\n",
    "                   \n",
    "                genre_ids = tv_show.get('genre_ids', [])\n",
    "                details['genres'] = [genre_mapping.get(genre_id, 'Unknown') for genre_id in genre_ids]\n",
    "                doc = nlp(details['overview'])\n",
    "                keywords = [token.text for token in doc if not token.is_stop and token.is_alpha]\n",
    "                details['keywords'] = keywords\n",
    "\n",
    "                datas.append(details)\n",
    "        else:\n",
    "            print(f\"Failed to retrieve TV show data for page {page}. Status code:\", response.status_code)\n",
    "            break \n",
    "else:\n",
    "    print(\"Failed to retrieve genre data. Status code:\", genre_response.status_code)\n"
   ]
  },
  {
   "cell_type": "code",
   "execution_count": 5,
   "metadata": {},
   "outputs": [],
   "source": [
    "df = pd.DataFrame(datas)\n",
    "df.to_csv('id_name.csv', index=False)"
   ]
  },
  {
   "cell_type": "code",
   "execution_count": 21,
   "metadata": {},
   "outputs": [],
   "source": [
    "import pandas as pd\n",
    "\n",
    "# Load the CSV file into a DataFrame\n",
    "df = pd.read_csv(\"temp.csv\")\n",
    "\n",
    "# Remove duplicate rows\n",
    "df = df.drop_duplicates()\n",
    "\n",
    "# Save the DataFrame back to a new CSV file without duplicate rows\n",
    "df.to_csv(\"data.csv\", index=False)\n"
   ]
  },
  {
   "cell_type": "code",
   "execution_count": 1,
   "metadata": {},
   "outputs": [
    {
     "name": "stdout",
     "output_type": "stream",
     "text": [
      "501\n",
      "Failed to retrieve TV show data for page 501. Status code: 400\n"
     ]
    }
   ],
   "source": [
    "import requests\n",
    "\n",
    "api_key = 'd7ccf52b1d89825d0a4eea78f785a707'\n",
    "base_url = 'https://api.themoviedb.org/3'\n",
    "image_base_url = 'https://image.tmdb.org/t/p/w500'\n",
    "\n",
    "endpoint = '/tv/popular'\n",
    "\n",
    "params = {\n",
    "    'api_key': api_key,\n",
    "    'language': 'en-US',\n",
    "}\n",
    "genre_endpoint = '/genre/tv/list'\n",
    "genre_params = {\n",
    "    'api_key': api_key,\n",
    "    'language': 'en-US',\n",
    "}\n",
    "\n",
    "genre_response = requests.get(base_url + genre_endpoint, params=genre_params)\n",
    "\n",
    "if genre_response.status_code == 200:\n",
    "    genre_data = genre_response.json()\n",
    "    genre_mapping = {genre['id']: genre['name'] for genre in genre_data['genres']}\n",
    "    for page in range(501,1000):\n",
    "        print(page)\n",
    "        params['page'] = page\n",
    "        response = requests.get(base_url + endpoint, params=params)\n",
    "        if response.status_code == 200:  \n",
    "            data = response.json()\n",
    "            for tv_show in data['results']:\n",
    "                if tv_show['poster_path'] is None:\n",
    "                    tv_show['poster_path'] = '/7dFZJ2ZJJdcmkp05B9NWlqTJ5tq.jpg'\n",
    "                details = {\n",
    "                    'name': tv_show['name'],\n",
    "                    'movieId': tv_show['id'],\n",
    "                    'poster_path': image_base_url + tv_show['poster_path']\n",
    "                }\n",
    "                datas.append(details)\n",
    "        else:\n",
    "            print(f\"Failed to retrieve TV show data for page {page}. Status code:\", response.status_code)\n",
    "            break \n",
    "else:\n",
    "    print(\"Failed to retrieve genre data. Status code:\", genre_response.status_code)\n"
   ]
  },
  {
   "cell_type": "code",
   "execution_count": 6,
   "metadata": {},
   "outputs": [
    {
     "name": "stderr",
     "output_type": "stream",
     "text": [
      "                                                                                \r"
     ]
    },
    {
     "name": "stdout",
     "output_type": "stream",
     "text": [
      "+------+---+---+---+---+---+\n",
      "|userId|101|102|103|104|105|\n",
      "+------+---+---+---+---+---+\n",
      "|     7|  0|  4|  0|  0|  0|\n",
      "|     6|  4|  0|  4|  0|  0|\n",
      "|     9|  2|  3|  4|  5|  4|\n",
      "|     5|  0|  0|  0|  3|  4|\n",
      "|     1|  5|  4|  0|  0|  0|\n",
      "|    10|  5|  2|  1|  4|  5|\n",
      "|     3|  2|  3|  4|  0|  0|\n",
      "|     8|  4|  3|  4|  2|  3|\n",
      "|     2|  4|  0|  0|  0|  0|\n",
      "|     4|  5|  0|  0|  0|  0|\n",
      "+------+---+---+---+---+---+\n",
      "\n"
     ]
    }
   ],
   "source": [
    "from pyspark.sql import SparkSession\n",
    "from pyspark.sql.functions import col\n",
    "\n",
    "# Create a Spark session\n",
    "spark = SparkSession.builder.appName(\"ratings_matrix\").getOrCreate()\n",
    "\n",
    "# Given data\n",
    "data = spark.createDataFrame([\n",
    "    (1, 101, 5), (1, 102, 4),\n",
    "    (2, 101, 4),\n",
    "    (3, 101, 2), (3, 102, 3), (3, 103, 4),\n",
    "    (4, 101, 5),\n",
    "    (5, 104, 3), (5, 105, 4),\n",
    "    (6, 101, 4), (6, 103, 4),\n",
    "    (7, 102, 4),\n",
    "    (8, 101, 4), (8, 102, 3), (8, 103, 4), (8, 104, 2), (8, 105, 3),\n",
    "    (9, 101, 2), (9, 102, 3), (9, 103, 4), (9, 104, 5), (9, 105, 4),\n",
    "    (10, 101, 5), (10, 102, 2), (10, 103, 1), (10, 104, 4), (10, 105, 5)\n",
    "], [\"userId\", \"movieId\", \"rating\"])\n",
    "\n",
    "# Pivot the DataFrame to create a matrix\n",
    "ratings_matrix = data.groupBy(\"userId\").pivot(\"movieId\").agg({\"rating\": \"first\"})\n",
    "\n",
    "# Fill null values with 0 (assuming unrated movies)\n",
    "ratings_matrix = ratings_matrix.na.fill(0)\n",
    "\n",
    "# Show the resulting matrix\n",
    "ratings_matrix.show()\n"
   ]
  },
  {
   "cell_type": "code",
   "execution_count": null,
   "metadata": {},
   "outputs": [],
   "source": []
  }
 ],
 "metadata": {
  "kernelspec": {
   "display_name": "base",
   "language": "python",
   "name": "python3"
  },
  "language_info": {
   "codemirror_mode": {
    "name": "ipython",
    "version": 3
   },
   "file_extension": ".py",
   "mimetype": "text/x-python",
   "name": "python",
   "nbconvert_exporter": "python",
   "pygments_lexer": "ipython3",
   "version": "3.11.4"
  }
 },
 "nbformat": 4,
 "nbformat_minor": 2
}
