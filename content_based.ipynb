{
 "cells": [
  {
   "cell_type": "code",
   "execution_count": 24,
   "metadata": {},
   "outputs": [
    {
     "name": "stderr",
     "output_type": "stream",
     "text": [
      "                                                                                \r"
     ]
    }
   ],
   "source": [
    "from pyspark.sql import SparkSession\n",
    "from pyspark.ml.feature import HashingTF, IDF, Tokenizer, StopWordsRemover\n",
    "from pyspark.ml.linalg import Vectors\n",
    "from pyspark.ml.feature import VectorAssembler, Normalizer\n",
    "from pyspark.sql.functions import col\n",
    "\n",
    "spark = SparkSession.builder.appName(\"ContentBasedFiltering\").config(\"spark.sql.execution.arrow.maxRecordsPerBatch\", 50).getOrCreate()\n",
    "data = spark.read.option(\"header\", \"true\").csv(\"new_data.csv\")\n",
    "data = data.na.drop(subset=[\"tags\"])\n",
    "tokenizer = Tokenizer(inputCol=\"tags\", outputCol=\"words\")\n",
    "data = tokenizer.transform(data)\n",
    "remover = StopWordsRemover(inputCol=\"words\", outputCol=\"filtered_words\")\n",
    "data = remover.transform(data)\n",
    "hashingTF = HashingTF(inputCol=\"filtered_words\", outputCol=\"rawFeatures\")\n",
    "data = hashingTF.transform(data)\n",
    "idf = IDF(inputCol=\"rawFeatures\", outputCol=\"features\")\n",
    "idfModel = idf.fit(data)\n",
    "data = idfModel.transform(data)\n",
    "assembler = VectorAssembler(inputCols=[\"features\"], outputCol=\"feature_vector\")\n",
    "data = assembler.transform(data)\n",
    "normalizer = Normalizer(inputCol=\"feature_vector\", outputCol=\"normalized_features\")\n",
    "data = normalizer.transform(data)\n",
    "\n",
    "selected_data = data.select(\"name\", \"normalized_features\")\n",
    "\n",
    "def get_top_movies(movie_name, top_n):\n",
    "    movie_data = selected_data.filter(col(\"name\") == movie_name)\n",
    "    cross_joined_data = selected_data.crossJoin(movie_data.withColumnRenamed(\"name\", \"movie_name_2\").withColumnRenamed(\"normalized_features\", \"normalized_features_2\"))\n",
    "    def cosine_similarity(v1, v2):\n",
    "        return float(v1.dot(v2) / (v1.norm(2) * v2.norm(2)))\n",
    "    cosine_similarity_udf = spark.udf.register(\"cosine_similarity\", cosine_similarity)\n",
    "    result = cross_joined_data.withColumn(\"similarity\", cosine_similarity_udf(\"normalized_features\", \"normalized_features_2\")).filter(col(\"name\") != col(\"movie_name_2\"))\n",
    "    result = result.withColumn(\"similarity\", col(\"similarity\").cast(\"double\"))\n",
    "    result = result.withColumn(\"similarity\", col(\"similarity\").cast(\"decimal(10,5)\"))\n",
    "    recommendations = (\n",
    "        result.select(col(\"name\").alias(\"movie_name\"), \"similarity\")\n",
    "        .orderBy(col(\"similarity\").desc())\n",
    "        .limit(top_n)\n",
    "    )\n",
    "    print(f\"Recommendations for movie {movie_name} are:\")\n",
    "    recommendations.show(100, truncate=False)\n"
   ]
  },
  {
   "cell_type": "code",
   "execution_count": 25,
   "metadata": {},
   "outputs": [
    {
     "name": "stderr",
     "output_type": "stream",
     "text": [
      "23/12/02 20:59:51 WARN SimpleFunctionRegistry: The function cosine_similarity replaced a previously registered function.\n"
     ]
    },
    {
     "name": "stdout",
     "output_type": "stream",
     "text": [
      "Recommendations for movie Loki are:\n"
     ]
    },
    {
     "name": "stderr",
     "output_type": "stream",
     "text": [
      "23/12/02 20:59:51 WARN DAGScheduler: Broadcasting large task binary with size 4.1 MiB\n",
      "23/12/02 20:59:59 WARN DAGScheduler: Broadcasting large task binary with size 18.7 MiB\n",
      "[Stage 46:>                                                         (0 + 1) / 1]\r"
     ]
    },
    {
     "name": "stdout",
     "output_type": "stream",
     "text": [
      "+-----------------------------------------------------------------------------+----------+\n",
      "|movie_name                                                                   |similarity|\n",
      "+-----------------------------------------------------------------------------+----------+\n",
      "|Thor & Loki: Blood Brothers                                                  |0.16683   |\n",
      "|Westinghouse Desilu Playhouse                                                |0.16055   |\n",
      "|Mythical Detective Loki Ragnarok                                             |0.14933   |\n",
      "|Fate/Apocrypha                                                               |0.13609   |\n",
      "|The Falcon and the Winter Soldier                                            |0.11557   |\n",
      "|Don't Waste Your Time, Lovers                                                |0.09179   |\n",
      "|Is It Wrong to Try to Pick Up Girls in a Dungeon? On the Side: Sword Oratoria|0.08925   |\n",
      "|3 Body Problem                                                               |0.08489   |\n",
      "|LOL: Last One Laughing Italy                                                 |0.07684   |\n",
      "|The World Wars                                                               |0.07362   |\n",
      "|Tokumei Sentai Go-Busters                                                    |0.07124   |\n",
      "|Black Mirror                                                                 |0.06805   |\n",
      "|The New Avengers                                                             |0.06805   |\n",
      "|Marvel's Future Avengers                                                     |0.06710   |\n",
      "|Trackdown                                                                    |0.06514   |\n",
      "|Phil of the Future                                                           |0.06508   |\n",
      "|Narco-Saints                                                                 |0.06503   |\n",
      "|The Real McCoys                                                              |0.06441   |\n",
      "|Invasion                                                                     |0.06405   |\n",
      "|The God of High School                                                       |0.06385   |\n",
      "|DC's Legends of Tomorrow                                                     |0.06379   |\n",
      "|The Avengers: United They Stand                                              |0.06289   |\n",
      "|365: Repeat the Year                                                         |0.06166   |\n",
      "|Megaton Musashi                                                              |0.06165   |\n",
      "|Dog Days                                                                     |0.05994   |\n",
      "|Keiji 7-nin                                                                  |0.05942   |\n",
      "|The Lazarus Project                                                          |0.05863   |\n",
      "|Heels                                                                        |0.05841   |\n",
      "|Trinity Blood                                                                |0.05803   |\n",
      "|Marvel's Avengers                                                            |0.05764   |\n",
      "+-----------------------------------------------------------------------------+----------+\n",
      "\n"
     ]
    },
    {
     "name": "stderr",
     "output_type": "stream",
     "text": [
      "                                                                                \r"
     ]
    }
   ],
   "source": [
    "get_top_movies(\"Loki\", 30)"
   ]
  },
  {
   "cell_type": "code",
   "execution_count": null,
   "metadata": {},
   "outputs": [],
   "source": []
  }
 ],
 "metadata": {
  "kernelspec": {
   "display_name": "base",
   "language": "python",
   "name": "python3"
  },
  "language_info": {
   "codemirror_mode": {
    "name": "ipython",
    "version": 3
   },
   "file_extension": ".py",
   "mimetype": "text/x-python",
   "name": "python",
   "nbconvert_exporter": "python",
   "pygments_lexer": "ipython3",
   "version": "3.11.4"
  }
 },
 "nbformat": 4,
 "nbformat_minor": 2
}
